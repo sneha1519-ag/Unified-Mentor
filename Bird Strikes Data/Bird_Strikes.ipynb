{
  "cells": [
    {
      "cell_type": "code",
      "execution_count": 1,
      "metadata": {
        "id": "W1Un0Pu0HuV7"
      },
      "outputs": [],
      "source": [
        "import pandas as pd\n",
        "import numpy as np\n",
        "import matplotlib.pyplot as plt\n",
        "import seaborn as sns"
      ]
    },
    {
      "cell_type": "code",
      "execution_count": 41,
      "metadata": {
        "id": "fI2EgdV9H9M9"
      },
      "outputs": [],
      "source": [
        "df = pd.read_excel('Bird Strikes data copy.xlsx')"
      ]
    },
    {
      "cell_type": "code",
      "execution_count": 42,
      "metadata": {
        "colab": {
          "base_uri": "https://localhost:8080/",
          "height": 690
        },
        "id": "Ri-WAYkYKS4e",
        "outputId": "1291c66b-eb00-4d2e-ffcf-bae76f1dda16"
      },
      "outputs": [
        {
          "output_type": "execute_result",
          "data": {
            "text/plain": [
              "   Record ID Aircraft: Type                Airport: Name Altitude bin  \\\n",
              "0     202152       Airplane                 LAGUARDIA NY    > 1000 ft   \n",
              "1     208159       Airplane  DALLAS/FORT WORTH INTL ARPT    < 1000 ft   \n",
              "2     207601       Airplane            LAKEFRONT AIRPORT    < 1000 ft   \n",
              "3     215953       Airplane          SEATTLE-TACOMA INTL    < 1000 ft   \n",
              "4     219878       Airplane                 NORFOLK INTL    < 1000 ft   \n",
              "\n",
              "  Aircraft: Make/Model Wildlife: Number struck  \\\n",
              "0            B-737-400                Over 100   \n",
              "1                MD-80                Over 100   \n",
              "2                C-500                Over 100   \n",
              "3            B-737-400                Over 100   \n",
              "4         CL-RJ100/200                Over 100   \n",
              "\n",
              "   Wildlife: Number Struck Actual Effect: Impact to flight FlightDate  \\\n",
              "0                             859         Engine Shut Down 2000-11-23   \n",
              "1                             424                      NaN 2001-07-25   \n",
              "2                             261                      NaN 2001-09-14   \n",
              "3                             806    Precautionary Landing 2002-09-05   \n",
              "4                             942                      NaN 2003-06-23   \n",
              "\n",
              "  Effect: Indicated Damage  ... Remains of wildlife sent to Smithsonian  \\\n",
              "0            Caused damage  ...                                   False   \n",
              "1            Caused damage  ...                                   False   \n",
              "2                No damage  ...                                   False   \n",
              "3                No damage  ...                                   False   \n",
              "4                No damage  ...                                   False   \n",
              "\n",
              "                                             Remarks Wildlife: Size  \\\n",
              "0  FLT 753. PILOT REPTD A HUNDRED BIRDS ON UNKN T...         Medium   \n",
              "1  102 CARCASSES FOUND. 1 LDG LIGHT ON NOSE GEAR ...          Small   \n",
              "2  FLEW UNDER A VERY LARGE FLOCK OF BIRDS OVER AP...          Small   \n",
              "3  NOTAM WARNING. 26 BIRDS HIT THE A/C, FORCING A...          Small   \n",
              "4                                      NO DMG REPTD.          Small   \n",
              "\n",
              "  Conditions: Sky      Wildlife: Species  Pilot warned of birds or wildlife?  \\\n",
              "0        No Cloud  Unknown bird - medium                                   N   \n",
              "1      Some Cloud            Rock pigeon                                   Y   \n",
              "2        No Cloud      European starling                                   N   \n",
              "3      Some Cloud      European starling                                   Y   \n",
              "4        No Cloud      European starling                                   N   \n",
              "\n",
              "   Cost: Total $ Feet above ground Number of people injured Is Aircraft Large?  \n",
              "0          30736            1500.0                        0                Yes  \n",
              "1              0               0.0                        0                 No  \n",
              "2              0              50.0                        0                 No  \n",
              "3              0              50.0                        0                Yes  \n",
              "4              0              50.0                        0                 No  \n",
              "\n",
              "[5 rows x 26 columns]"
            ],
            "text/html": [
              "\n",
              "  <div id=\"df-78e869c2-2b81-4d4f-b906-d4e4889e2ce5\" class=\"colab-df-container\">\n",
              "    <div>\n",
              "<style scoped>\n",
              "    .dataframe tbody tr th:only-of-type {\n",
              "        vertical-align: middle;\n",
              "    }\n",
              "\n",
              "    .dataframe tbody tr th {\n",
              "        vertical-align: top;\n",
              "    }\n",
              "\n",
              "    .dataframe thead th {\n",
              "        text-align: right;\n",
              "    }\n",
              "</style>\n",
              "<table border=\"1\" class=\"dataframe\">\n",
              "  <thead>\n",
              "    <tr style=\"text-align: right;\">\n",
              "      <th></th>\n",
              "      <th>Record ID</th>\n",
              "      <th>Aircraft: Type</th>\n",
              "      <th>Airport: Name</th>\n",
              "      <th>Altitude bin</th>\n",
              "      <th>Aircraft: Make/Model</th>\n",
              "      <th>Wildlife: Number struck</th>\n",
              "      <th>Wildlife: Number Struck Actual</th>\n",
              "      <th>Effect: Impact to flight</th>\n",
              "      <th>FlightDate</th>\n",
              "      <th>Effect: Indicated Damage</th>\n",
              "      <th>...</th>\n",
              "      <th>Remains of wildlife sent to Smithsonian</th>\n",
              "      <th>Remarks</th>\n",
              "      <th>Wildlife: Size</th>\n",
              "      <th>Conditions: Sky</th>\n",
              "      <th>Wildlife: Species</th>\n",
              "      <th>Pilot warned of birds or wildlife?</th>\n",
              "      <th>Cost: Total $</th>\n",
              "      <th>Feet above ground</th>\n",
              "      <th>Number of people injured</th>\n",
              "      <th>Is Aircraft Large?</th>\n",
              "    </tr>\n",
              "  </thead>\n",
              "  <tbody>\n",
              "    <tr>\n",
              "      <th>0</th>\n",
              "      <td>202152</td>\n",
              "      <td>Airplane</td>\n",
              "      <td>LAGUARDIA NY</td>\n",
              "      <td>&gt; 1000 ft</td>\n",
              "      <td>B-737-400</td>\n",
              "      <td>Over 100</td>\n",
              "      <td>859</td>\n",
              "      <td>Engine Shut Down</td>\n",
              "      <td>2000-11-23</td>\n",
              "      <td>Caused damage</td>\n",
              "      <td>...</td>\n",
              "      <td>False</td>\n",
              "      <td>FLT 753. PILOT REPTD A HUNDRED BIRDS ON UNKN T...</td>\n",
              "      <td>Medium</td>\n",
              "      <td>No Cloud</td>\n",
              "      <td>Unknown bird - medium</td>\n",
              "      <td>N</td>\n",
              "      <td>30736</td>\n",
              "      <td>1500.0</td>\n",
              "      <td>0</td>\n",
              "      <td>Yes</td>\n",
              "    </tr>\n",
              "    <tr>\n",
              "      <th>1</th>\n",
              "      <td>208159</td>\n",
              "      <td>Airplane</td>\n",
              "      <td>DALLAS/FORT WORTH INTL ARPT</td>\n",
              "      <td>&lt; 1000 ft</td>\n",
              "      <td>MD-80</td>\n",
              "      <td>Over 100</td>\n",
              "      <td>424</td>\n",
              "      <td>NaN</td>\n",
              "      <td>2001-07-25</td>\n",
              "      <td>Caused damage</td>\n",
              "      <td>...</td>\n",
              "      <td>False</td>\n",
              "      <td>102 CARCASSES FOUND. 1 LDG LIGHT ON NOSE GEAR ...</td>\n",
              "      <td>Small</td>\n",
              "      <td>Some Cloud</td>\n",
              "      <td>Rock pigeon</td>\n",
              "      <td>Y</td>\n",
              "      <td>0</td>\n",
              "      <td>0.0</td>\n",
              "      <td>0</td>\n",
              "      <td>No</td>\n",
              "    </tr>\n",
              "    <tr>\n",
              "      <th>2</th>\n",
              "      <td>207601</td>\n",
              "      <td>Airplane</td>\n",
              "      <td>LAKEFRONT AIRPORT</td>\n",
              "      <td>&lt; 1000 ft</td>\n",
              "      <td>C-500</td>\n",
              "      <td>Over 100</td>\n",
              "      <td>261</td>\n",
              "      <td>NaN</td>\n",
              "      <td>2001-09-14</td>\n",
              "      <td>No damage</td>\n",
              "      <td>...</td>\n",
              "      <td>False</td>\n",
              "      <td>FLEW UNDER A VERY LARGE FLOCK OF BIRDS OVER AP...</td>\n",
              "      <td>Small</td>\n",
              "      <td>No Cloud</td>\n",
              "      <td>European starling</td>\n",
              "      <td>N</td>\n",
              "      <td>0</td>\n",
              "      <td>50.0</td>\n",
              "      <td>0</td>\n",
              "      <td>No</td>\n",
              "    </tr>\n",
              "    <tr>\n",
              "      <th>3</th>\n",
              "      <td>215953</td>\n",
              "      <td>Airplane</td>\n",
              "      <td>SEATTLE-TACOMA INTL</td>\n",
              "      <td>&lt; 1000 ft</td>\n",
              "      <td>B-737-400</td>\n",
              "      <td>Over 100</td>\n",
              "      <td>806</td>\n",
              "      <td>Precautionary Landing</td>\n",
              "      <td>2002-09-05</td>\n",
              "      <td>No damage</td>\n",
              "      <td>...</td>\n",
              "      <td>False</td>\n",
              "      <td>NOTAM WARNING. 26 BIRDS HIT THE A/C, FORCING A...</td>\n",
              "      <td>Small</td>\n",
              "      <td>Some Cloud</td>\n",
              "      <td>European starling</td>\n",
              "      <td>Y</td>\n",
              "      <td>0</td>\n",
              "      <td>50.0</td>\n",
              "      <td>0</td>\n",
              "      <td>Yes</td>\n",
              "    </tr>\n",
              "    <tr>\n",
              "      <th>4</th>\n",
              "      <td>219878</td>\n",
              "      <td>Airplane</td>\n",
              "      <td>NORFOLK INTL</td>\n",
              "      <td>&lt; 1000 ft</td>\n",
              "      <td>CL-RJ100/200</td>\n",
              "      <td>Over 100</td>\n",
              "      <td>942</td>\n",
              "      <td>NaN</td>\n",
              "      <td>2003-06-23</td>\n",
              "      <td>No damage</td>\n",
              "      <td>...</td>\n",
              "      <td>False</td>\n",
              "      <td>NO DMG REPTD.</td>\n",
              "      <td>Small</td>\n",
              "      <td>No Cloud</td>\n",
              "      <td>European starling</td>\n",
              "      <td>N</td>\n",
              "      <td>0</td>\n",
              "      <td>50.0</td>\n",
              "      <td>0</td>\n",
              "      <td>No</td>\n",
              "    </tr>\n",
              "  </tbody>\n",
              "</table>\n",
              "<p>5 rows × 26 columns</p>\n",
              "</div>\n",
              "    <div class=\"colab-df-buttons\">\n",
              "\n",
              "  <div class=\"colab-df-container\">\n",
              "    <button class=\"colab-df-convert\" onclick=\"convertToInteractive('df-78e869c2-2b81-4d4f-b906-d4e4889e2ce5')\"\n",
              "            title=\"Convert this dataframe to an interactive table.\"\n",
              "            style=\"display:none;\">\n",
              "\n",
              "  <svg xmlns=\"http://www.w3.org/2000/svg\" height=\"24px\" viewBox=\"0 -960 960 960\">\n",
              "    <path d=\"M120-120v-720h720v720H120Zm60-500h600v-160H180v160Zm220 220h160v-160H400v160Zm0 220h160v-160H400v160ZM180-400h160v-160H180v160Zm440 0h160v-160H620v160ZM180-180h160v-160H180v160Zm440 0h160v-160H620v160Z\"/>\n",
              "  </svg>\n",
              "    </button>\n",
              "\n",
              "  <style>\n",
              "    .colab-df-container {\n",
              "      display:flex;\n",
              "      gap: 12px;\n",
              "    }\n",
              "\n",
              "    .colab-df-convert {\n",
              "      background-color: #E8F0FE;\n",
              "      border: none;\n",
              "      border-radius: 50%;\n",
              "      cursor: pointer;\n",
              "      display: none;\n",
              "      fill: #1967D2;\n",
              "      height: 32px;\n",
              "      padding: 0 0 0 0;\n",
              "      width: 32px;\n",
              "    }\n",
              "\n",
              "    .colab-df-convert:hover {\n",
              "      background-color: #E2EBFA;\n",
              "      box-shadow: 0px 1px 2px rgba(60, 64, 67, 0.3), 0px 1px 3px 1px rgba(60, 64, 67, 0.15);\n",
              "      fill: #174EA6;\n",
              "    }\n",
              "\n",
              "    .colab-df-buttons div {\n",
              "      margin-bottom: 4px;\n",
              "    }\n",
              "\n",
              "    [theme=dark] .colab-df-convert {\n",
              "      background-color: #3B4455;\n",
              "      fill: #D2E3FC;\n",
              "    }\n",
              "\n",
              "    [theme=dark] .colab-df-convert:hover {\n",
              "      background-color: #434B5C;\n",
              "      box-shadow: 0px 1px 3px 1px rgba(0, 0, 0, 0.15);\n",
              "      filter: drop-shadow(0px 1px 2px rgba(0, 0, 0, 0.3));\n",
              "      fill: #FFFFFF;\n",
              "    }\n",
              "  </style>\n",
              "\n",
              "    <script>\n",
              "      const buttonEl =\n",
              "        document.querySelector('#df-78e869c2-2b81-4d4f-b906-d4e4889e2ce5 button.colab-df-convert');\n",
              "      buttonEl.style.display =\n",
              "        google.colab.kernel.accessAllowed ? 'block' : 'none';\n",
              "\n",
              "      async function convertToInteractive(key) {\n",
              "        const element = document.querySelector('#df-78e869c2-2b81-4d4f-b906-d4e4889e2ce5');\n",
              "        const dataTable =\n",
              "          await google.colab.kernel.invokeFunction('convertToInteractive',\n",
              "                                                    [key], {});\n",
              "        if (!dataTable) return;\n",
              "\n",
              "        const docLinkHtml = 'Like what you see? Visit the ' +\n",
              "          '<a target=\"_blank\" href=https://colab.research.google.com/notebooks/data_table.ipynb>data table notebook</a>'\n",
              "          + ' to learn more about interactive tables.';\n",
              "        element.innerHTML = '';\n",
              "        dataTable['output_type'] = 'display_data';\n",
              "        await google.colab.output.renderOutput(dataTable, element);\n",
              "        const docLink = document.createElement('div');\n",
              "        docLink.innerHTML = docLinkHtml;\n",
              "        element.appendChild(docLink);\n",
              "      }\n",
              "    </script>\n",
              "  </div>\n",
              "\n",
              "\n",
              "<div id=\"df-4f7ea608-0dd1-40a4-bc78-559b547d4816\">\n",
              "  <button class=\"colab-df-quickchart\" onclick=\"quickchart('df-4f7ea608-0dd1-40a4-bc78-559b547d4816')\"\n",
              "            title=\"Suggest charts\"\n",
              "            style=\"display:none;\">\n",
              "\n",
              "<svg xmlns=\"http://www.w3.org/2000/svg\" height=\"24px\"viewBox=\"0 0 24 24\"\n",
              "     width=\"24px\">\n",
              "    <g>\n",
              "        <path d=\"M19 3H5c-1.1 0-2 .9-2 2v14c0 1.1.9 2 2 2h14c1.1 0 2-.9 2-2V5c0-1.1-.9-2-2-2zM9 17H7v-7h2v7zm4 0h-2V7h2v10zm4 0h-2v-4h2v4z\"/>\n",
              "    </g>\n",
              "</svg>\n",
              "  </button>\n",
              "\n",
              "<style>\n",
              "  .colab-df-quickchart {\n",
              "      --bg-color: #E8F0FE;\n",
              "      --fill-color: #1967D2;\n",
              "      --hover-bg-color: #E2EBFA;\n",
              "      --hover-fill-color: #174EA6;\n",
              "      --disabled-fill-color: #AAA;\n",
              "      --disabled-bg-color: #DDD;\n",
              "  }\n",
              "\n",
              "  [theme=dark] .colab-df-quickchart {\n",
              "      --bg-color: #3B4455;\n",
              "      --fill-color: #D2E3FC;\n",
              "      --hover-bg-color: #434B5C;\n",
              "      --hover-fill-color: #FFFFFF;\n",
              "      --disabled-bg-color: #3B4455;\n",
              "      --disabled-fill-color: #666;\n",
              "  }\n",
              "\n",
              "  .colab-df-quickchart {\n",
              "    background-color: var(--bg-color);\n",
              "    border: none;\n",
              "    border-radius: 50%;\n",
              "    cursor: pointer;\n",
              "    display: none;\n",
              "    fill: var(--fill-color);\n",
              "    height: 32px;\n",
              "    padding: 0;\n",
              "    width: 32px;\n",
              "  }\n",
              "\n",
              "  .colab-df-quickchart:hover {\n",
              "    background-color: var(--hover-bg-color);\n",
              "    box-shadow: 0 1px 2px rgba(60, 64, 67, 0.3), 0 1px 3px 1px rgba(60, 64, 67, 0.15);\n",
              "    fill: var(--button-hover-fill-color);\n",
              "  }\n",
              "\n",
              "  .colab-df-quickchart-complete:disabled,\n",
              "  .colab-df-quickchart-complete:disabled:hover {\n",
              "    background-color: var(--disabled-bg-color);\n",
              "    fill: var(--disabled-fill-color);\n",
              "    box-shadow: none;\n",
              "  }\n",
              "\n",
              "  .colab-df-spinner {\n",
              "    border: 2px solid var(--fill-color);\n",
              "    border-color: transparent;\n",
              "    border-bottom-color: var(--fill-color);\n",
              "    animation:\n",
              "      spin 1s steps(1) infinite;\n",
              "  }\n",
              "\n",
              "  @keyframes spin {\n",
              "    0% {\n",
              "      border-color: transparent;\n",
              "      border-bottom-color: var(--fill-color);\n",
              "      border-left-color: var(--fill-color);\n",
              "    }\n",
              "    20% {\n",
              "      border-color: transparent;\n",
              "      border-left-color: var(--fill-color);\n",
              "      border-top-color: var(--fill-color);\n",
              "    }\n",
              "    30% {\n",
              "      border-color: transparent;\n",
              "      border-left-color: var(--fill-color);\n",
              "      border-top-color: var(--fill-color);\n",
              "      border-right-color: var(--fill-color);\n",
              "    }\n",
              "    40% {\n",
              "      border-color: transparent;\n",
              "      border-right-color: var(--fill-color);\n",
              "      border-top-color: var(--fill-color);\n",
              "    }\n",
              "    60% {\n",
              "      border-color: transparent;\n",
              "      border-right-color: var(--fill-color);\n",
              "    }\n",
              "    80% {\n",
              "      border-color: transparent;\n",
              "      border-right-color: var(--fill-color);\n",
              "      border-bottom-color: var(--fill-color);\n",
              "    }\n",
              "    90% {\n",
              "      border-color: transparent;\n",
              "      border-bottom-color: var(--fill-color);\n",
              "    }\n",
              "  }\n",
              "</style>\n",
              "\n",
              "  <script>\n",
              "    async function quickchart(key) {\n",
              "      const quickchartButtonEl =\n",
              "        document.querySelector('#' + key + ' button');\n",
              "      quickchartButtonEl.disabled = true;  // To prevent multiple clicks.\n",
              "      quickchartButtonEl.classList.add('colab-df-spinner');\n",
              "      try {\n",
              "        const charts = await google.colab.kernel.invokeFunction(\n",
              "            'suggestCharts', [key], {});\n",
              "      } catch (error) {\n",
              "        console.error('Error during call to suggestCharts:', error);\n",
              "      }\n",
              "      quickchartButtonEl.classList.remove('colab-df-spinner');\n",
              "      quickchartButtonEl.classList.add('colab-df-quickchart-complete');\n",
              "    }\n",
              "    (() => {\n",
              "      let quickchartButtonEl =\n",
              "        document.querySelector('#df-4f7ea608-0dd1-40a4-bc78-559b547d4816 button');\n",
              "      quickchartButtonEl.style.display =\n",
              "        google.colab.kernel.accessAllowed ? 'block' : 'none';\n",
              "    })();\n",
              "  </script>\n",
              "</div>\n",
              "\n",
              "    </div>\n",
              "  </div>\n"
            ],
            "application/vnd.google.colaboratory.intrinsic+json": {
              "type": "dataframe",
              "variable_name": "df"
            }
          },
          "metadata": {},
          "execution_count": 42
        }
      ],
      "source": [
        "df.head()"
      ]
    },
    {
      "cell_type": "code",
      "execution_count": 43,
      "metadata": {
        "colab": {
          "base_uri": "https://localhost:8080/"
        },
        "id": "Tcf1v6x0KUUf",
        "outputId": "bc87c2e1-3323-47f8-deac-61f66f443bdb"
      },
      "outputs": [
        {
          "output_type": "execute_result",
          "data": {
            "text/plain": [
              "(25558, 26)"
            ]
          },
          "metadata": {},
          "execution_count": 43
        }
      ],
      "source": [
        "df.shape\n"
      ]
    },
    {
      "cell_type": "code",
      "execution_count": 44,
      "metadata": {
        "colab": {
          "base_uri": "https://localhost:8080/",
          "height": 335
        },
        "id": "pIZrE-zwKX5r",
        "outputId": "c13f010f-f024-44ce-b286-22e77d4e0bd3"
      },
      "outputs": [
        {
          "output_type": "execute_result",
          "data": {
            "text/plain": [
              "           Record ID  Wildlife: Number Struck Actual  \\\n",
              "count   25558.000000                    25558.000000   \n",
              "mean   253916.085609                        2.691525   \n",
              "min      1195.000000                        1.000000   \n",
              "25%    225783.750000                        1.000000   \n",
              "50%    248749.000000                        1.000000   \n",
              "75%    269168.750000                        1.000000   \n",
              "max    321909.000000                      942.000000   \n",
              "std     38510.453382                       12.793975   \n",
              "\n",
              "                          FlightDate  Cost: Total $  Feet above ground  \\\n",
              "count                          25429   2.555800e+04       25429.000000   \n",
              "mean   2007-01-22 13:20:40.017303040   5.567354e+03         799.028432   \n",
              "min              2000-01-02 00:00:00   0.000000e+00           0.000000   \n",
              "25%              2004-06-17 00:00:00   0.000000e+00           0.000000   \n",
              "50%              2007-07-29 00:00:00   0.000000e+00          50.000000   \n",
              "75%              2009-11-01 00:00:00   0.000000e+00         700.000000   \n",
              "max              2011-12-31 00:00:00   1.239775e+07       18000.000000   \n",
              "std                              NaN   1.219713e+05        1740.079843   \n",
              "\n",
              "       Number of people injured  \n",
              "count              25558.000000  \n",
              "mean                   0.001056  \n",
              "min                    0.000000  \n",
              "25%                    0.000000  \n",
              "50%                    0.000000  \n",
              "75%                    0.000000  \n",
              "max                    6.000000  \n",
              "std                    0.050420  "
            ],
            "text/html": [
              "\n",
              "  <div id=\"df-822f6db8-e252-45ab-b16e-b30537158502\" class=\"colab-df-container\">\n",
              "    <div>\n",
              "<style scoped>\n",
              "    .dataframe tbody tr th:only-of-type {\n",
              "        vertical-align: middle;\n",
              "    }\n",
              "\n",
              "    .dataframe tbody tr th {\n",
              "        vertical-align: top;\n",
              "    }\n",
              "\n",
              "    .dataframe thead th {\n",
              "        text-align: right;\n",
              "    }\n",
              "</style>\n",
              "<table border=\"1\" class=\"dataframe\">\n",
              "  <thead>\n",
              "    <tr style=\"text-align: right;\">\n",
              "      <th></th>\n",
              "      <th>Record ID</th>\n",
              "      <th>Wildlife: Number Struck Actual</th>\n",
              "      <th>FlightDate</th>\n",
              "      <th>Cost: Total $</th>\n",
              "      <th>Feet above ground</th>\n",
              "      <th>Number of people injured</th>\n",
              "    </tr>\n",
              "  </thead>\n",
              "  <tbody>\n",
              "    <tr>\n",
              "      <th>count</th>\n",
              "      <td>25558.000000</td>\n",
              "      <td>25558.000000</td>\n",
              "      <td>25429</td>\n",
              "      <td>2.555800e+04</td>\n",
              "      <td>25429.000000</td>\n",
              "      <td>25558.000000</td>\n",
              "    </tr>\n",
              "    <tr>\n",
              "      <th>mean</th>\n",
              "      <td>253916.085609</td>\n",
              "      <td>2.691525</td>\n",
              "      <td>2007-01-22 13:20:40.017303040</td>\n",
              "      <td>5.567354e+03</td>\n",
              "      <td>799.028432</td>\n",
              "      <td>0.001056</td>\n",
              "    </tr>\n",
              "    <tr>\n",
              "      <th>min</th>\n",
              "      <td>1195.000000</td>\n",
              "      <td>1.000000</td>\n",
              "      <td>2000-01-02 00:00:00</td>\n",
              "      <td>0.000000e+00</td>\n",
              "      <td>0.000000</td>\n",
              "      <td>0.000000</td>\n",
              "    </tr>\n",
              "    <tr>\n",
              "      <th>25%</th>\n",
              "      <td>225783.750000</td>\n",
              "      <td>1.000000</td>\n",
              "      <td>2004-06-17 00:00:00</td>\n",
              "      <td>0.000000e+00</td>\n",
              "      <td>0.000000</td>\n",
              "      <td>0.000000</td>\n",
              "    </tr>\n",
              "    <tr>\n",
              "      <th>50%</th>\n",
              "      <td>248749.000000</td>\n",
              "      <td>1.000000</td>\n",
              "      <td>2007-07-29 00:00:00</td>\n",
              "      <td>0.000000e+00</td>\n",
              "      <td>50.000000</td>\n",
              "      <td>0.000000</td>\n",
              "    </tr>\n",
              "    <tr>\n",
              "      <th>75%</th>\n",
              "      <td>269168.750000</td>\n",
              "      <td>1.000000</td>\n",
              "      <td>2009-11-01 00:00:00</td>\n",
              "      <td>0.000000e+00</td>\n",
              "      <td>700.000000</td>\n",
              "      <td>0.000000</td>\n",
              "    </tr>\n",
              "    <tr>\n",
              "      <th>max</th>\n",
              "      <td>321909.000000</td>\n",
              "      <td>942.000000</td>\n",
              "      <td>2011-12-31 00:00:00</td>\n",
              "      <td>1.239775e+07</td>\n",
              "      <td>18000.000000</td>\n",
              "      <td>6.000000</td>\n",
              "    </tr>\n",
              "    <tr>\n",
              "      <th>std</th>\n",
              "      <td>38510.453382</td>\n",
              "      <td>12.793975</td>\n",
              "      <td>NaN</td>\n",
              "      <td>1.219713e+05</td>\n",
              "      <td>1740.079843</td>\n",
              "      <td>0.050420</td>\n",
              "    </tr>\n",
              "  </tbody>\n",
              "</table>\n",
              "</div>\n",
              "    <div class=\"colab-df-buttons\">\n",
              "\n",
              "  <div class=\"colab-df-container\">\n",
              "    <button class=\"colab-df-convert\" onclick=\"convertToInteractive('df-822f6db8-e252-45ab-b16e-b30537158502')\"\n",
              "            title=\"Convert this dataframe to an interactive table.\"\n",
              "            style=\"display:none;\">\n",
              "\n",
              "  <svg xmlns=\"http://www.w3.org/2000/svg\" height=\"24px\" viewBox=\"0 -960 960 960\">\n",
              "    <path d=\"M120-120v-720h720v720H120Zm60-500h600v-160H180v160Zm220 220h160v-160H400v160Zm0 220h160v-160H400v160ZM180-400h160v-160H180v160Zm440 0h160v-160H620v160ZM180-180h160v-160H180v160Zm440 0h160v-160H620v160Z\"/>\n",
              "  </svg>\n",
              "    </button>\n",
              "\n",
              "  <style>\n",
              "    .colab-df-container {\n",
              "      display:flex;\n",
              "      gap: 12px;\n",
              "    }\n",
              "\n",
              "    .colab-df-convert {\n",
              "      background-color: #E8F0FE;\n",
              "      border: none;\n",
              "      border-radius: 50%;\n",
              "      cursor: pointer;\n",
              "      display: none;\n",
              "      fill: #1967D2;\n",
              "      height: 32px;\n",
              "      padding: 0 0 0 0;\n",
              "      width: 32px;\n",
              "    }\n",
              "\n",
              "    .colab-df-convert:hover {\n",
              "      background-color: #E2EBFA;\n",
              "      box-shadow: 0px 1px 2px rgba(60, 64, 67, 0.3), 0px 1px 3px 1px rgba(60, 64, 67, 0.15);\n",
              "      fill: #174EA6;\n",
              "    }\n",
              "\n",
              "    .colab-df-buttons div {\n",
              "      margin-bottom: 4px;\n",
              "    }\n",
              "\n",
              "    [theme=dark] .colab-df-convert {\n",
              "      background-color: #3B4455;\n",
              "      fill: #D2E3FC;\n",
              "    }\n",
              "\n",
              "    [theme=dark] .colab-df-convert:hover {\n",
              "      background-color: #434B5C;\n",
              "      box-shadow: 0px 1px 3px 1px rgba(0, 0, 0, 0.15);\n",
              "      filter: drop-shadow(0px 1px 2px rgba(0, 0, 0, 0.3));\n",
              "      fill: #FFFFFF;\n",
              "    }\n",
              "  </style>\n",
              "\n",
              "    <script>\n",
              "      const buttonEl =\n",
              "        document.querySelector('#df-822f6db8-e252-45ab-b16e-b30537158502 button.colab-df-convert');\n",
              "      buttonEl.style.display =\n",
              "        google.colab.kernel.accessAllowed ? 'block' : 'none';\n",
              "\n",
              "      async function convertToInteractive(key) {\n",
              "        const element = document.querySelector('#df-822f6db8-e252-45ab-b16e-b30537158502');\n",
              "        const dataTable =\n",
              "          await google.colab.kernel.invokeFunction('convertToInteractive',\n",
              "                                                    [key], {});\n",
              "        if (!dataTable) return;\n",
              "\n",
              "        const docLinkHtml = 'Like what you see? Visit the ' +\n",
              "          '<a target=\"_blank\" href=https://colab.research.google.com/notebooks/data_table.ipynb>data table notebook</a>'\n",
              "          + ' to learn more about interactive tables.';\n",
              "        element.innerHTML = '';\n",
              "        dataTable['output_type'] = 'display_data';\n",
              "        await google.colab.output.renderOutput(dataTable, element);\n",
              "        const docLink = document.createElement('div');\n",
              "        docLink.innerHTML = docLinkHtml;\n",
              "        element.appendChild(docLink);\n",
              "      }\n",
              "    </script>\n",
              "  </div>\n",
              "\n",
              "\n",
              "<div id=\"df-0e76f7f8-d5f7-4834-8d02-983358746eb2\">\n",
              "  <button class=\"colab-df-quickchart\" onclick=\"quickchart('df-0e76f7f8-d5f7-4834-8d02-983358746eb2')\"\n",
              "            title=\"Suggest charts\"\n",
              "            style=\"display:none;\">\n",
              "\n",
              "<svg xmlns=\"http://www.w3.org/2000/svg\" height=\"24px\"viewBox=\"0 0 24 24\"\n",
              "     width=\"24px\">\n",
              "    <g>\n",
              "        <path d=\"M19 3H5c-1.1 0-2 .9-2 2v14c0 1.1.9 2 2 2h14c1.1 0 2-.9 2-2V5c0-1.1-.9-2-2-2zM9 17H7v-7h2v7zm4 0h-2V7h2v10zm4 0h-2v-4h2v4z\"/>\n",
              "    </g>\n",
              "</svg>\n",
              "  </button>\n",
              "\n",
              "<style>\n",
              "  .colab-df-quickchart {\n",
              "      --bg-color: #E8F0FE;\n",
              "      --fill-color: #1967D2;\n",
              "      --hover-bg-color: #E2EBFA;\n",
              "      --hover-fill-color: #174EA6;\n",
              "      --disabled-fill-color: #AAA;\n",
              "      --disabled-bg-color: #DDD;\n",
              "  }\n",
              "\n",
              "  [theme=dark] .colab-df-quickchart {\n",
              "      --bg-color: #3B4455;\n",
              "      --fill-color: #D2E3FC;\n",
              "      --hover-bg-color: #434B5C;\n",
              "      --hover-fill-color: #FFFFFF;\n",
              "      --disabled-bg-color: #3B4455;\n",
              "      --disabled-fill-color: #666;\n",
              "  }\n",
              "\n",
              "  .colab-df-quickchart {\n",
              "    background-color: var(--bg-color);\n",
              "    border: none;\n",
              "    border-radius: 50%;\n",
              "    cursor: pointer;\n",
              "    display: none;\n",
              "    fill: var(--fill-color);\n",
              "    height: 32px;\n",
              "    padding: 0;\n",
              "    width: 32px;\n",
              "  }\n",
              "\n",
              "  .colab-df-quickchart:hover {\n",
              "    background-color: var(--hover-bg-color);\n",
              "    box-shadow: 0 1px 2px rgba(60, 64, 67, 0.3), 0 1px 3px 1px rgba(60, 64, 67, 0.15);\n",
              "    fill: var(--button-hover-fill-color);\n",
              "  }\n",
              "\n",
              "  .colab-df-quickchart-complete:disabled,\n",
              "  .colab-df-quickchart-complete:disabled:hover {\n",
              "    background-color: var(--disabled-bg-color);\n",
              "    fill: var(--disabled-fill-color);\n",
              "    box-shadow: none;\n",
              "  }\n",
              "\n",
              "  .colab-df-spinner {\n",
              "    border: 2px solid var(--fill-color);\n",
              "    border-color: transparent;\n",
              "    border-bottom-color: var(--fill-color);\n",
              "    animation:\n",
              "      spin 1s steps(1) infinite;\n",
              "  }\n",
              "\n",
              "  @keyframes spin {\n",
              "    0% {\n",
              "      border-color: transparent;\n",
              "      border-bottom-color: var(--fill-color);\n",
              "      border-left-color: var(--fill-color);\n",
              "    }\n",
              "    20% {\n",
              "      border-color: transparent;\n",
              "      border-left-color: var(--fill-color);\n",
              "      border-top-color: var(--fill-color);\n",
              "    }\n",
              "    30% {\n",
              "      border-color: transparent;\n",
              "      border-left-color: var(--fill-color);\n",
              "      border-top-color: var(--fill-color);\n",
              "      border-right-color: var(--fill-color);\n",
              "    }\n",
              "    40% {\n",
              "      border-color: transparent;\n",
              "      border-right-color: var(--fill-color);\n",
              "      border-top-color: var(--fill-color);\n",
              "    }\n",
              "    60% {\n",
              "      border-color: transparent;\n",
              "      border-right-color: var(--fill-color);\n",
              "    }\n",
              "    80% {\n",
              "      border-color: transparent;\n",
              "      border-right-color: var(--fill-color);\n",
              "      border-bottom-color: var(--fill-color);\n",
              "    }\n",
              "    90% {\n",
              "      border-color: transparent;\n",
              "      border-bottom-color: var(--fill-color);\n",
              "    }\n",
              "  }\n",
              "</style>\n",
              "\n",
              "  <script>\n",
              "    async function quickchart(key) {\n",
              "      const quickchartButtonEl =\n",
              "        document.querySelector('#' + key + ' button');\n",
              "      quickchartButtonEl.disabled = true;  // To prevent multiple clicks.\n",
              "      quickchartButtonEl.classList.add('colab-df-spinner');\n",
              "      try {\n",
              "        const charts = await google.colab.kernel.invokeFunction(\n",
              "            'suggestCharts', [key], {});\n",
              "      } catch (error) {\n",
              "        console.error('Error during call to suggestCharts:', error);\n",
              "      }\n",
              "      quickchartButtonEl.classList.remove('colab-df-spinner');\n",
              "      quickchartButtonEl.classList.add('colab-df-quickchart-complete');\n",
              "    }\n",
              "    (() => {\n",
              "      let quickchartButtonEl =\n",
              "        document.querySelector('#df-0e76f7f8-d5f7-4834-8d02-983358746eb2 button');\n",
              "      quickchartButtonEl.style.display =\n",
              "        google.colab.kernel.accessAllowed ? 'block' : 'none';\n",
              "    })();\n",
              "  </script>\n",
              "</div>\n",
              "\n",
              "    </div>\n",
              "  </div>\n"
            ],
            "application/vnd.google.colaboratory.intrinsic+json": {
              "type": "dataframe",
              "summary": "{\n  \"name\": \"df\",\n  \"rows\": 8,\n  \"fields\": [\n    {\n      \"column\": \"Record ID\",\n      \"properties\": {\n        \"dtype\": \"number\",\n        \"std\": 128639.71195952325,\n        \"min\": 1195.0,\n        \"max\": 321909.0,\n        \"num_unique_values\": 8,\n        \"samples\": [\n          253916.0856092026,\n          269168.75,\n          25558.0\n        ],\n        \"semantic_type\": \"\",\n        \"description\": \"\"\n      }\n    },\n    {\n      \"column\": \"Wildlife: Number Struck Actual\",\n      \"properties\": {\n        \"dtype\": \"number\",\n        \"std\": 8993.557329158888,\n        \"min\": 1.0,\n        \"max\": 25558.0,\n        \"num_unique_values\": 5,\n        \"samples\": [\n          2.6915251584631035,\n          12.793975135016563,\n          1.0\n        ],\n        \"semantic_type\": \"\",\n        \"description\": \"\"\n      }\n    },\n    {\n      \"column\": \"FlightDate\",\n      \"properties\": {\n        \"dtype\": \"date\",\n        \"min\": \"1970-01-01 00:00:00.000025429\",\n        \"max\": \"2011-12-31 00:00:00\",\n        \"num_unique_values\": 7,\n        \"samples\": [\n          \"25429\",\n          \"2007-01-22 13:20:40.017303040\",\n          \"2009-11-01 00:00:00\"\n        ],\n        \"semantic_type\": \"\",\n        \"description\": \"\"\n      }\n    },\n    {\n      \"column\": \"Cost: Total $\",\n      \"properties\": {\n        \"dtype\": \"number\",\n        \"std\": 4375733.718890334,\n        \"min\": 0.0,\n        \"max\": 12397751.0,\n        \"num_unique_values\": 5,\n        \"samples\": [\n          5567.354448704907,\n          121971.26777209842,\n          0.0\n        ],\n        \"semantic_type\": \"\",\n        \"description\": \"\"\n      }\n    },\n    {\n      \"column\": \"Feet above ground\",\n      \"properties\": {\n        \"dtype\": \"number\",\n        \"std\": 10014.062684877747,\n        \"min\": 0.0,\n        \"max\": 25429.0,\n        \"num_unique_values\": 7,\n        \"samples\": [\n          25429.0,\n          799.0284321050768,\n          18000.0\n        ],\n        \"semantic_type\": \"\",\n        \"description\": \"\"\n      }\n    },\n    {\n      \"column\": \"Number of people injured\",\n      \"properties\": {\n        \"dtype\": \"number\",\n        \"std\": 9035.81215429347,\n        \"min\": 0.0,\n        \"max\": 25558.0,\n        \"num_unique_values\": 5,\n        \"samples\": [\n          0.001056420690194851,\n          0.05042041688480268,\n          0.0\n        ],\n        \"semantic_type\": \"\",\n        \"description\": \"\"\n      }\n    }\n  ]\n}"
            }
          },
          "metadata": {},
          "execution_count": 44
        }
      ],
      "source": [
        "df.describe()"
      ]
    },
    {
      "cell_type": "code",
      "execution_count": 45,
      "metadata": {
        "colab": {
          "base_uri": "https://localhost:8080/"
        },
        "id": "wP6XSVoKKZhr",
        "outputId": "ce597651-cd2b-4fba-c658-d89bd57d9b7e"
      },
      "outputs": [
        {
          "output_type": "execute_result",
          "data": {
            "text/plain": [
              "Record ID                                           int64\n",
              "Aircraft: Type                                     object\n",
              "Airport: Name                                      object\n",
              "Altitude bin                                       object\n",
              "Aircraft: Make/Model                               object\n",
              "Wildlife: Number struck                            object\n",
              "Wildlife: Number Struck Actual                      int64\n",
              "Effect: Impact to flight                           object\n",
              "FlightDate                                 datetime64[ns]\n",
              "Effect: Indicated Damage                           object\n",
              "Aircraft: Number of engines?                       object\n",
              "Aircraft: Airline/Operator                         object\n",
              "Origin State                                       object\n",
              "When: Phase of flight                              object\n",
              "Conditions: Precipitation                          object\n",
              "Remains of wildlife collected?                       bool\n",
              "Remains of wildlife sent to Smithsonian              bool\n",
              "Remarks                                            object\n",
              "Wildlife: Size                                     object\n",
              "Conditions: Sky                                    object\n",
              "Wildlife: Species                                  object\n",
              "Pilot warned of birds or wildlife?                 object\n",
              "Cost: Total $                                       int64\n",
              "Feet above ground                                 float64\n",
              "Number of people injured                            int64\n",
              "Is Aircraft Large?                                 object\n",
              "dtype: object"
            ]
          },
          "metadata": {},
          "execution_count": 45
        }
      ],
      "source": [
        "df.dtypes"
      ]
    },
    {
      "cell_type": "code",
      "execution_count": 46,
      "metadata": {
        "colab": {
          "base_uri": "https://localhost:8080/"
        },
        "id": "8VyPhJDSKl3f",
        "outputId": "50a2519c-ce06-4ba4-e29b-e7f63c7687ac"
      },
      "outputs": [
        {
          "output_type": "execute_result",
          "data": {
            "text/plain": [
              "Record ID                                      0\n",
              "Aircraft: Type                               129\n",
              "Airport: Name                                129\n",
              "Altitude bin                                 129\n",
              "Aircraft: Make/Model                           0\n",
              "Wildlife: Number struck                      129\n",
              "Wildlife: Number Struck Actual                 0\n",
              "Effect: Impact to flight                   23480\n",
              "FlightDate                                   129\n",
              "Effect: Indicated Damage                       0\n",
              "Aircraft: Number of engines?                 267\n",
              "Aircraft: Airline/Operator                   129\n",
              "Origin State                                 449\n",
              "When: Phase of flight                        129\n",
              "Conditions: Precipitation                  23543\n",
              "Remains of wildlife collected?                 0\n",
              "Remains of wildlife sent to Smithsonian        0\n",
              "Remarks                                     4771\n",
              "Wildlife: Size                               129\n",
              "Conditions: Sky                                0\n",
              "Wildlife: Species                              0\n",
              "Pilot warned of birds or wildlife?           129\n",
              "Cost: Total $                                  0\n",
              "Feet above ground                            129\n",
              "Number of people injured                       0\n",
              "Is Aircraft Large?                           129\n",
              "dtype: int64"
            ]
          },
          "metadata": {},
          "execution_count": 46
        }
      ],
      "source": [
        "df.isnull().sum()"
      ]
    },
    {
      "cell_type": "code",
      "execution_count": 47,
      "metadata": {
        "colab": {
          "base_uri": "https://localhost:8080/"
        },
        "id": "1NrY1pqMKqAy",
        "outputId": "f10e0abe-87cf-46a7-fc10-c031d68a9d5c"
      },
      "outputs": [
        {
          "output_type": "execute_result",
          "data": {
            "text/plain": [
              "0"
            ]
          },
          "metadata": {},
          "execution_count": 47
        }
      ],
      "source": [
        "df.duplicated().sum()"
      ]
    },
    {
      "cell_type": "code",
      "execution_count": 48,
      "metadata": {
        "colab": {
          "base_uri": "https://localhost:8080/"
        },
        "id": "WgAtsH_px63X",
        "outputId": "72f52faa-e4e2-491d-aa88-d69859ffaa55"
      },
      "outputs": [
        {
          "output_type": "execute_result",
          "data": {
            "text/plain": [
              "array(['Airplane', nan], dtype=object)"
            ]
          },
          "metadata": {},
          "execution_count": 48
        }
      ],
      "source": [
        "df['Aircraft: Type'].unique()"
      ]
    },
    {
      "cell_type": "code",
      "execution_count": 49,
      "metadata": {
        "id": "7H4vx3TSyYwJ"
      },
      "outputs": [],
      "source": [
        "df['Aircraft: Type'].fillna('Airplane', inplace=True)"
      ]
    },
    {
      "cell_type": "code",
      "execution_count": 50,
      "metadata": {
        "colab": {
          "base_uri": "https://localhost:8080/"
        },
        "id": "WOLd9PNbyf-Q",
        "outputId": "37773825-23b8-4650-bf03-c4c603ae0994"
      },
      "outputs": [
        {
          "output_type": "execute_result",
          "data": {
            "text/plain": [
              "0"
            ]
          },
          "metadata": {},
          "execution_count": 50
        }
      ],
      "source": [
        "df['Aircraft: Type'].isnull().sum()"
      ]
    },
    {
      "cell_type": "code",
      "execution_count": 51,
      "metadata": {
        "colab": {
          "base_uri": "https://localhost:8080/"
        },
        "id": "VVzqp1_HyrKK",
        "outputId": "af509c01-9dff-4f05-ef64-8b62351cc699"
      },
      "outputs": [
        {
          "output_type": "execute_result",
          "data": {
            "text/plain": [
              "Airport: Name\n",
              "DALLAS/FORT WORTH INTL ARPT    803\n",
              "SACRAMENTO INTL                676\n",
              "SALT LAKE CITY INTL            479\n",
              "DENVER INTL AIRPORT            476\n",
              "KANSAS CITY INTL               452\n",
              "                              ... \n",
              "ORCAS ISLAND ARPT                1\n",
              "T B LETTSOME INTL                1\n",
              "DYERSBURG REGIONAL ARPT          1\n",
              "MCCORD FIELD ARPT                1\n",
              "PRINCESS JULIANA                 1\n",
              "Name: count, Length: 1109, dtype: int64"
            ]
          },
          "metadata": {},
          "execution_count": 51
        }
      ],
      "source": [
        "df['Airport: Name'].value_counts()"
      ]
    },
    {
      "cell_type": "code",
      "execution_count": 52,
      "metadata": {
        "id": "QTV_4lFPy7SY"
      },
      "outputs": [],
      "source": [
        "df['Airport: Name'].fillna('DALLAS/FORT WORTH INTL ARPT', inplace=True)"
      ]
    },
    {
      "cell_type": "code",
      "execution_count": 53,
      "metadata": {
        "colab": {
          "base_uri": "https://localhost:8080/"
        },
        "id": "ifbbPkZBzLdV",
        "outputId": "cce60819-fc10-4da7-c9c6-cacef5d5d1bc"
      },
      "outputs": [
        {
          "output_type": "execute_result",
          "data": {
            "text/plain": [
              "0"
            ]
          },
          "metadata": {},
          "execution_count": 53
        }
      ],
      "source": [
        "df['Airport: Name'].isnull().sum()"
      ]
    },
    {
      "cell_type": "code",
      "execution_count": 54,
      "metadata": {
        "colab": {
          "base_uri": "https://localhost:8080/"
        },
        "id": "BduC0O6bzQci",
        "outputId": "e11e030f-30d8-4546-85a9-9ea00c51abdf"
      },
      "outputs": [
        {
          "output_type": "execute_result",
          "data": {
            "text/plain": [
              "Altitude bin\n",
              "< 1000 ft    20556\n",
              "> 1000 ft     4873\n",
              "Name: count, dtype: int64"
            ]
          },
          "metadata": {},
          "execution_count": 54
        }
      ],
      "source": [
        "df['Altitude bin'].value_counts()"
      ]
    },
    {
      "cell_type": "code",
      "execution_count": 55,
      "metadata": {
        "id": "FjOZXiCCzY1p"
      },
      "outputs": [],
      "source": [
        "df['Altitude bin'].fillna('< 1000 ft', inplace=True)"
      ]
    },
    {
      "cell_type": "code",
      "execution_count": 56,
      "metadata": {
        "colab": {
          "base_uri": "https://localhost:8080/"
        },
        "id": "aR64SRDHzmI8",
        "outputId": "abca9620-4813-4356-aa42-cb8bcbb4e084"
      },
      "outputs": [
        {
          "output_type": "execute_result",
          "data": {
            "text/plain": [
              "0"
            ]
          },
          "metadata": {},
          "execution_count": 56
        }
      ],
      "source": [
        "df['Altitude bin'].isnull().sum()"
      ]
    },
    {
      "cell_type": "code",
      "execution_count": 101,
      "metadata": {
        "colab": {
          "base_uri": "https://localhost:8080/"
        },
        "id": "6j84KAtKzyot",
        "outputId": "2fa6a5d2-590b-4232-e89f-db18157acd14"
      },
      "outputs": [
        {
          "output_type": "execute_result",
          "data": {
            "text/plain": [
              "Wildlife: Number struck\n",
              "1            20790\n",
              "2 to 10       4319\n",
              "11 to 100      312\n",
              "1              129\n",
              "Over 100         8\n",
              "Name: count, dtype: int64"
            ]
          },
          "metadata": {},
          "execution_count": 101
        }
      ],
      "source": [
        "df['Wildlife: Number struck'].value_counts()"
      ]
    },
    {
      "cell_type": "code",
      "execution_count": 58,
      "metadata": {
        "id": "jZjQ0N6Yz9rQ"
      },
      "outputs": [],
      "source": [
        "df['Wildlife: Number struck'].fillna('1', inplace=True)"
      ]
    },
    {
      "cell_type": "code",
      "execution_count": 59,
      "metadata": {
        "colab": {
          "base_uri": "https://localhost:8080/"
        },
        "id": "-rznF3VS0F7V",
        "outputId": "b4e10563-f6ee-488f-975e-fa1ac7709960"
      },
      "outputs": [
        {
          "output_type": "execute_result",
          "data": {
            "text/plain": [
              "0"
            ]
          },
          "metadata": {},
          "execution_count": 59
        }
      ],
      "source": [
        "df['Wildlife: Number struck'].isnull().sum()"
      ]
    },
    {
      "cell_type": "code",
      "execution_count": 60,
      "metadata": {
        "colab": {
          "base_uri": "https://localhost:8080/"
        },
        "id": "CCnkqp7D0KZf",
        "outputId": "b5171fb3-d37f-402b-cdea-4249d2f6d9f7"
      },
      "outputs": [
        {
          "output_type": "execute_result",
          "data": {
            "text/plain": [
              "Effect: Impact to flight\n",
              "Precautionary Landing    1121\n",
              "Aborted Take-off          479\n",
              "Other                     390\n",
              "Engine Shut Down           88\n",
              "Name: count, dtype: int64"
            ]
          },
          "metadata": {},
          "execution_count": 60
        }
      ],
      "source": [
        "df['Effect: Impact to flight'].value_counts()"
      ]
    },
    {
      "cell_type": "code",
      "execution_count": 61,
      "metadata": {
        "id": "6coDEm6m0Vwi"
      },
      "outputs": [],
      "source": [
        "df['Effect: Impact to flight'].fillna('Precautionary Landing', inplace = True)"
      ]
    },
    {
      "cell_type": "code",
      "execution_count": 62,
      "metadata": {
        "colab": {
          "base_uri": "https://localhost:8080/"
        },
        "id": "pcJ6MhaT0dl1",
        "outputId": "557e49f2-9bc8-494b-b718-7ca416cf0175"
      },
      "outputs": [
        {
          "output_type": "execute_result",
          "data": {
            "text/plain": [
              "0"
            ]
          },
          "metadata": {},
          "execution_count": 62
        }
      ],
      "source": [
        "df['Effect: Impact to flight'].isnull().sum()"
      ]
    },
    {
      "cell_type": "code",
      "execution_count": 63,
      "metadata": {
        "colab": {
          "base_uri": "https://localhost:8080/"
        },
        "id": "aTRWfXL00hY3",
        "outputId": "226bf6f2-6234-4f57-9e5b-5732ddab5355"
      },
      "outputs": [
        {
          "output_type": "execute_result",
          "data": {
            "text/plain": [
              "FlightDate\n",
              "2010-10-28    28\n",
              "2009-11-01    27\n",
              "2010-08-26    26\n",
              "2009-09-24    26\n",
              "2010-11-01    26\n",
              "              ..\n",
              "2008-02-04     1\n",
              "2008-02-01     1\n",
              "2002-01-12     1\n",
              "2008-01-23     1\n",
              "2000-11-23     1\n",
              "Name: count, Length: 4225, dtype: int64"
            ]
          },
          "metadata": {},
          "execution_count": 63
        }
      ],
      "source": [
        "df['FlightDate'].value_counts()"
      ]
    },
    {
      "cell_type": "code",
      "execution_count": 64,
      "metadata": {
        "id": "l3yFdKgz1Y7r"
      },
      "outputs": [],
      "source": [
        "df['FlightDate'].fillna('2010-10-28', inplace = True)"
      ]
    },
    {
      "cell_type": "code",
      "execution_count": 65,
      "metadata": {
        "colab": {
          "base_uri": "https://localhost:8080/"
        },
        "id": "NvBqKXTYFL8c",
        "outputId": "149081ef-2640-4a24-dc6d-2618d7c1c56d"
      },
      "outputs": [
        {
          "output_type": "execute_result",
          "data": {
            "text/plain": [
              "0"
            ]
          },
          "metadata": {},
          "execution_count": 65
        }
      ],
      "source": [
        "df['FlightDate'].isnull().sum()"
      ]
    },
    {
      "cell_type": "code",
      "execution_count": 66,
      "metadata": {
        "colab": {
          "base_uri": "https://localhost:8080/"
        },
        "id": "nGCWMPUAFPfK",
        "outputId": "32b3a2ce-0ca2-41bb-f930-d0f6ba194268"
      },
      "outputs": [
        {
          "output_type": "execute_result",
          "data": {
            "text/plain": [
              "Aircraft: Number of engines?\n",
              "2    23025\n",
              "1     1313\n",
              "3      564\n",
              "4      388\n",
              "C        1\n",
              "Name: count, dtype: int64"
            ]
          },
          "metadata": {},
          "execution_count": 66
        }
      ],
      "source": [
        "df['Aircraft: Number of engines?'].value_counts()"
      ]
    },
    {
      "cell_type": "code",
      "execution_count": 67,
      "metadata": {
        "id": "dNwrcJCvFhBW"
      },
      "outputs": [],
      "source": [
        "df['Aircraft: Number of engines?'].fillna('2', inplace = True)"
      ]
    },
    {
      "cell_type": "code",
      "execution_count": 68,
      "metadata": {
        "colab": {
          "base_uri": "https://localhost:8080/"
        },
        "id": "-GEyCY9FFyRv",
        "outputId": "db30d5a6-a4a9-450d-e7a8-09bb4748f82d"
      },
      "outputs": [
        {
          "output_type": "execute_result",
          "data": {
            "text/plain": [
              "0"
            ]
          },
          "metadata": {},
          "execution_count": 68
        }
      ],
      "source": [
        "df['Aircraft: Number of engines?'].isnull().sum()"
      ]
    },
    {
      "cell_type": "code",
      "execution_count": 69,
      "metadata": {
        "colab": {
          "base_uri": "https://localhost:8080/"
        },
        "id": "0BldG5ZDF05e",
        "outputId": "04b8805a-5467-4537-a786-3c231ef62f13"
      },
      "outputs": [
        {
          "output_type": "execute_result",
          "data": {
            "text/plain": [
              "Aircraft: Airline/Operator\n",
              "SOUTHWEST AIRLINES            4628\n",
              "BUSINESS                      3074\n",
              "AMERICAN AIRLINES             2058\n",
              "DELTA AIR LINES               1349\n",
              "AMERICAN EAGLE AIRLINES        932\n",
              "                              ... \n",
              "LYNDEN AIR CARGO                 1\n",
              "BIMINI ISLAND AIR                1\n",
              "HAGELAND AVIATION SERVICES       1\n",
              "CONSORCIO AVIACSA                1\n",
              "MIDWEST AVIATION DIVISION        1\n",
              "Name: count, Length: 292, dtype: int64"
            ]
          },
          "metadata": {},
          "execution_count": 69
        }
      ],
      "source": [
        "df['Aircraft: Airline/Operator'].value_counts()"
      ]
    },
    {
      "cell_type": "code",
      "execution_count": 70,
      "metadata": {
        "id": "M2RhtAJhF7j1"
      },
      "outputs": [],
      "source": [
        "df['Aircraft: Airline/Operator'].fillna('SOUTHWEST AIRLINES', inplace = True)"
      ]
    },
    {
      "cell_type": "code",
      "execution_count": 71,
      "metadata": {
        "colab": {
          "base_uri": "https://localhost:8080/"
        },
        "id": "GpMoGzwlGDcT",
        "outputId": "456b9185-3897-4ed3-be2a-a9dd1519f8fc"
      },
      "outputs": [
        {
          "output_type": "execute_result",
          "data": {
            "text/plain": [
              "0"
            ]
          },
          "metadata": {},
          "execution_count": 71
        }
      ],
      "source": [
        "df['Aircraft: Airline/Operator'].isnull().sum()"
      ]
    },
    {
      "cell_type": "code",
      "execution_count": 72,
      "metadata": {
        "colab": {
          "base_uri": "https://localhost:8080/"
        },
        "id": "O3-v_N_XGI2b",
        "outputId": "aec65e9d-39b4-4bb0-a0b1-c9a6c9bac3b2"
      },
      "outputs": [
        {
          "output_type": "execute_result",
          "data": {
            "text/plain": [
              "Origin State\n",
              "California                   2520\n",
              "Texas                        2453\n",
              "Florida                      2055\n",
              "New York                     1319\n",
              "Illinois                     1008\n",
              "Pennsylvania                  986\n",
              "Missouri                      960\n",
              "Kentucky                      812\n",
              "Ohio                          778\n",
              "Hawaii                        729\n",
              "Michigan                      678\n",
              "Colorado                      664\n",
              "Tennessee                     655\n",
              "North Carolina                652\n",
              "New Jersey                    600\n",
              "Georgia                       510\n",
              "Utah                          496\n",
              "Maryland                      433\n",
              "DC                            432\n",
              "Louisiana                     397\n",
              "Oregon                        391\n",
              "Nebraska                      368\n",
              "Arizona                       360\n",
              "Massachusetts                 355\n",
              "Minnesota                     352\n",
              "Indiana                       346\n",
              "Washington                    330\n",
              "Alabama                       301\n",
              "Virginia                      300\n",
              "Wisconsin                     286\n",
              "Connecticut                   246\n",
              "Iowa                          228\n",
              "Oklahoma                      212\n",
              "Alaska                        186\n",
              "Nevada                        167\n",
              "South Carolina                166\n",
              "Rhode Island                  125\n",
              "New Hampshire                 120\n",
              "Arkansas                      118\n",
              "Mississippi                   117\n",
              "Kansas                        100\n",
              "New Mexico                     94\n",
              "North Dakota                   87\n",
              "West Virginia                  83\n",
              "Prince Edward Island           83\n",
              "Puerto Rico                    70\n",
              "Idaho                          68\n",
              "South Dakota                   60\n",
              "Montana                        43\n",
              "Maine                          41\n",
              "Vermont                        36\n",
              "Wyoming                        34\n",
              "Virgin Islands                 31\n",
              "Delaware                       27\n",
              "Ontario                        14\n",
              "British Columbia               12\n",
              "Quebec                          9\n",
              "Alberta                         3\n",
              "Newfoundland and Labrador       2\n",
              "Saskatchewan                    1\n",
              "Name: count, dtype: int64"
            ]
          },
          "metadata": {},
          "execution_count": 72
        }
      ],
      "source": [
        "df['Origin State'].value_counts()"
      ]
    },
    {
      "cell_type": "code",
      "execution_count": 73,
      "metadata": {
        "id": "ZB_lp_hCGbxq"
      },
      "outputs": [],
      "source": [
        "df['Origin State'].fillna('California', inplace = True)"
      ]
    },
    {
      "cell_type": "code",
      "execution_count": 74,
      "metadata": {
        "colab": {
          "base_uri": "https://localhost:8080/"
        },
        "id": "KKKots9jGqEi",
        "outputId": "71cf71db-5a21-4453-e306-f3276847da32"
      },
      "outputs": [
        {
          "output_type": "execute_result",
          "data": {
            "text/plain": [
              "0"
            ]
          },
          "metadata": {},
          "execution_count": 74
        }
      ],
      "source": [
        "df['Origin State'].isnull().sum()"
      ]
    },
    {
      "cell_type": "code",
      "execution_count": 75,
      "metadata": {
        "colab": {
          "base_uri": "https://localhost:8080/"
        },
        "id": "1wBdjpjeGuQu",
        "outputId": "dc93e607-d547-4c33-8fcb-f864abe1ea0e"
      },
      "outputs": [
        {
          "output_type": "execute_result",
          "data": {
            "text/plain": [
              "When: Phase of flight\n",
              "Approach        10382\n",
              "Landing Roll     5047\n",
              "Take-off run     4711\n",
              "Climb            4429\n",
              "Descent           776\n",
              "Taxi               74\n",
              "Parked             10\n",
              "Name: count, dtype: int64"
            ]
          },
          "metadata": {},
          "execution_count": 75
        }
      ],
      "source": [
        "df['When: Phase of flight'].value_counts()"
      ]
    },
    {
      "cell_type": "code",
      "execution_count": 76,
      "metadata": {
        "id": "nuAarNBIG1eU"
      },
      "outputs": [],
      "source": [
        "df['When: Phase of flight'].fillna('Approach', inplace = True)"
      ]
    },
    {
      "cell_type": "code",
      "execution_count": 38,
      "metadata": {
        "colab": {
          "base_uri": "https://localhost:8080/"
        },
        "id": "C6E_lhp2G8A3",
        "outputId": "3e211673-7411-429f-9dc6-d0fc3d79f122"
      },
      "outputs": [
        {
          "output_type": "execute_result",
          "data": {
            "text/plain": [
              "0"
            ]
          },
          "metadata": {},
          "execution_count": 38
        }
      ],
      "source": [
        "df['When: Phase of flight'].isnull().sum()"
      ]
    },
    {
      "cell_type": "code",
      "execution_count": 40,
      "metadata": {
        "colab": {
          "base_uri": "https://localhost:8080/"
        },
        "id": "ds6slIr2HeH-",
        "outputId": "8321bab9-343e-4fa6-f357-4ebc4f898fee"
      },
      "outputs": [
        {
          "output_type": "execute_result",
          "data": {
            "text/plain": [
              "Wildlife: Size\n",
              "Small     17412\n",
              "Medium     5937\n",
              "Large      2080\n",
              "Name: count, dtype: int64"
            ]
          },
          "metadata": {},
          "execution_count": 40
        }
      ],
      "source": [
        "df['Wildlife: Size'].value_counts()"
      ]
    },
    {
      "cell_type": "code",
      "execution_count": 77,
      "metadata": {
        "id": "s7rrOQEZHvKc"
      },
      "outputs": [],
      "source": [
        "df['Wildlife: Size'].fillna('Small', inplace = True)"
      ]
    },
    {
      "cell_type": "code",
      "execution_count": 78,
      "metadata": {
        "colab": {
          "base_uri": "https://localhost:8080/"
        },
        "id": "FEZQDGGWH2PU",
        "outputId": "79e03020-2749-48af-c98a-42de420dd958"
      },
      "outputs": [
        {
          "output_type": "execute_result",
          "data": {
            "text/plain": [
              "0"
            ]
          },
          "metadata": {},
          "execution_count": 78
        }
      ],
      "source": [
        "df['Wildlife: Size'].isnull().sum()"
      ]
    },
    {
      "cell_type": "code",
      "execution_count": 79,
      "metadata": {
        "colab": {
          "base_uri": "https://localhost:8080/"
        },
        "id": "TvUpyWlhH5zT",
        "outputId": "78f649ab-2d9d-472d-aa8b-79e349bc3d34"
      },
      "outputs": [
        {
          "output_type": "execute_result",
          "data": {
            "text/plain": [
              "Pilot warned of birds or wildlife?\n",
              "N    14567\n",
              "Y    10862\n",
              "Name: count, dtype: int64"
            ]
          },
          "metadata": {},
          "execution_count": 79
        }
      ],
      "source": [
        "df['Pilot warned of birds or wildlife?'].value_counts()"
      ]
    },
    {
      "cell_type": "code",
      "execution_count": 80,
      "metadata": {
        "id": "rob93ybOH_98"
      },
      "outputs": [],
      "source": [
        "df['Pilot warned of birds or wildlife?'].fillna('N', inplace = True)"
      ]
    },
    {
      "cell_type": "code",
      "execution_count": 81,
      "metadata": {
        "colab": {
          "base_uri": "https://localhost:8080/"
        },
        "id": "O2RDXFbZIFNr",
        "outputId": "29adf25a-40cd-4523-f86e-72ad530b497a"
      },
      "outputs": [
        {
          "output_type": "execute_result",
          "data": {
            "text/plain": [
              "0"
            ]
          },
          "metadata": {},
          "execution_count": 81
        }
      ],
      "source": [
        "df['Pilot warned of birds or wildlife?'].isnull().sum()"
      ]
    },
    {
      "cell_type": "code",
      "execution_count": 97,
      "metadata": {
        "id": "Gj4yT2SOIKU3"
      },
      "outputs": [],
      "source": [
        "x = df['Feet above ground'].median()"
      ]
    },
    {
      "cell_type": "code",
      "source": [
        "df['Feet above ground'].fillna(x, inplace = True)"
      ],
      "metadata": {
        "id": "Gqvl897kDG-q"
      },
      "execution_count": 98,
      "outputs": []
    },
    {
      "cell_type": "code",
      "execution_count": 83,
      "metadata": {
        "colab": {
          "base_uri": "https://localhost:8080/"
        },
        "id": "o1o_PkwvIb4Q",
        "outputId": "82e96172-d6ec-4ff0-f808-1019c7a4346f"
      },
      "outputs": [
        {
          "output_type": "execute_result",
          "data": {
            "text/plain": [
              "Is Aircraft Large?\n",
              "No     17027\n",
              "Yes     8402\n",
              "Name: count, dtype: int64"
            ]
          },
          "metadata": {},
          "execution_count": 83
        }
      ],
      "source": [
        "df['Is Aircraft Large?'].value_counts()"
      ]
    },
    {
      "cell_type": "code",
      "execution_count": 84,
      "metadata": {
        "id": "LceWA8JJIlCC"
      },
      "outputs": [],
      "source": [
        "df['Is Aircraft Large?'].fillna('No', inplace = True)"
      ]
    },
    {
      "cell_type": "code",
      "execution_count": 85,
      "metadata": {
        "colab": {
          "base_uri": "https://localhost:8080/"
        },
        "id": "nspcQRI3Ir4D",
        "outputId": "9c23c9c6-9774-419a-d83d-316caf15d77c"
      },
      "outputs": [
        {
          "output_type": "execute_result",
          "data": {
            "text/plain": [
              "0"
            ]
          },
          "metadata": {},
          "execution_count": 85
        }
      ],
      "source": [
        "df['Is Aircraft Large?'].isnull().sum()"
      ]
    },
    {
      "cell_type": "code",
      "execution_count": 99,
      "metadata": {
        "colab": {
          "base_uri": "https://localhost:8080/"
        },
        "id": "6PQt6vaHIvLc",
        "outputId": "19a4e951-c24b-46db-967a-e62e1525c9dd"
      },
      "outputs": [
        {
          "output_type": "execute_result",
          "data": {
            "text/plain": [
              "Record ID                                  0\n",
              "Aircraft: Type                             0\n",
              "Airport: Name                              0\n",
              "Altitude bin                               0\n",
              "Aircraft: Make/Model                       0\n",
              "Wildlife: Number struck                    0\n",
              "Wildlife: Number Struck Actual             0\n",
              "Effect: Impact to flight                   0\n",
              "FlightDate                                 0\n",
              "Effect: Indicated Damage                   0\n",
              "Aircraft: Number of engines?               0\n",
              "Aircraft: Airline/Operator                 0\n",
              "Origin State                               0\n",
              "When: Phase of flight                      0\n",
              "Conditions: Precipitation                  0\n",
              "Remains of wildlife collected?             0\n",
              "Remains of wildlife sent to Smithsonian    0\n",
              "Wildlife: Size                             0\n",
              "Conditions: Sky                            0\n",
              "Wildlife: Species                          0\n",
              "Pilot warned of birds or wildlife?         0\n",
              "Cost: Total $                              0\n",
              "Feet above ground                          0\n",
              "Number of people injured                   0\n",
              "Is Aircraft Large?                         0\n",
              "dtype: int64"
            ]
          },
          "metadata": {},
          "execution_count": 99
        }
      ],
      "source": [
        "df.isnull().sum()"
      ]
    },
    {
      "cell_type": "code",
      "source": [
        "df['Conditions: Precipitation'].value_counts()"
      ],
      "metadata": {
        "colab": {
          "base_uri": "https://localhost:8080/"
        },
        "id": "3f_I0vCnBrW7",
        "outputId": "9fdc714c-3847-4648-c015-987ce85e8392"
      },
      "execution_count": 87,
      "outputs": [
        {
          "output_type": "execute_result",
          "data": {
            "text/plain": [
              "Conditions: Precipitation\n",
              "Rain               1353\n",
              "Fog                 475\n",
              "Snow                 89\n",
              "Fog, Rain            85\n",
              "Rain, Snow            6\n",
              "Fog, Snow             4\n",
              "Fog, Rain, Snow       3\n",
              "Name: count, dtype: int64"
            ]
          },
          "metadata": {},
          "execution_count": 87
        }
      ]
    },
    {
      "cell_type": "code",
      "source": [
        "df['Conditions: Precipitation'].fillna('Rain', inplace = True)"
      ],
      "metadata": {
        "id": "1LDQ8CrjBv6f"
      },
      "execution_count": 88,
      "outputs": []
    },
    {
      "cell_type": "code",
      "source": [
        "df['Conditions: Precipitation'].isnull().sum()"
      ],
      "metadata": {
        "colab": {
          "base_uri": "https://localhost:8080/"
        },
        "id": "qYGNFXLAB3yw",
        "outputId": "71b7c2fb-dd5f-437e-8d8f-e0a8b0d91391"
      },
      "execution_count": 89,
      "outputs": [
        {
          "output_type": "execute_result",
          "data": {
            "text/plain": [
              "0"
            ]
          },
          "metadata": {},
          "execution_count": 89
        }
      ]
    },
    {
      "cell_type": "code",
      "source": [
        "df.drop(columns = ['Remarks'], axis = 1, inplace = True)"
      ],
      "metadata": {
        "id": "E83LErM6B8bS"
      },
      "execution_count": 93,
      "outputs": []
    },
    {
      "cell_type": "code",
      "source": [
        "df.to_excel('cleaned_file.xlsx', index=False)"
      ],
      "metadata": {
        "id": "XY-nDXIUCENC"
      },
      "execution_count": 102,
      "outputs": []
    }
  ],
  "metadata": {
    "colab": {
      "provenance": []
    },
    "kernelspec": {
      "display_name": "Python 3",
      "name": "python3"
    },
    "language_info": {
      "codemirror_mode": {
        "name": "ipython",
        "version": 3
      },
      "file_extension": ".py",
      "mimetype": "text/x-python",
      "name": "python",
      "nbconvert_exporter": "python",
      "pygments_lexer": "ipython3",
      "version": "3.13.0"
    }
  },
  "nbformat": 4,
  "nbformat_minor": 0
}